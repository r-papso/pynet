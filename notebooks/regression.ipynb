{
 "cells": [
  {
   "cell_type": "code",
   "execution_count": 3,
   "metadata": {},
   "outputs": [],
   "source": [
    "import numpy as np\n",
    "\n",
    "from sklearn.datasets import load_diabetes\n",
    "\n",
    "# Neural network modules\n",
    "from pynet.nn.sequential import Sequential\n",
    "from pynet.nn.linear import Linear\n",
    "from pynet.nn.relu import ReLU\n",
    "\n",
    "# Datasets\n",
    "from pynet.data.in_memory import InMemoryDataset\n",
    "\n",
    "# Loss functions\n",
    "from pynet.loss.mse import MeanSquaredError\n",
    "\n",
    "# Optimizers\n",
    "from pynet.optimizers.sgd import SGD\n",
    "\n",
    "# Weight initializers\n",
    "from pynet.initializers.he_normal import HeNormal\n",
    "\n",
    "# Trainer and training/testing callbacks\n",
    "from pynet.training.trainer.default import DefaultTrainer\n",
    "from pynet.training.callbacks.print import PrintCallback\n",
    "from pynet.training.callbacks.lr_schedule import LrSchedule"
   ]
  },
  {
   "cell_type": "code",
   "execution_count": 4,
   "metadata": {},
   "outputs": [],
   "source": [
    "def lr_schedule(epoch: int, lr: float) -> float:\n",
    "    if epoch > 0 and epoch % 50 == 0:\n",
    "        return lr * 0.1\n",
    "    else:\n",
    "        return lr"
   ]
  },
  {
   "cell_type": "code",
   "execution_count": 5,
   "metadata": {},
   "outputs": [],
   "source": [
    "X, y = load_diabetes(return_X_y=True)\n",
    "\n",
    "# Feature normalization\n",
    "X_norm = (X - X.min(0)) / X.ptp(0)\n",
    "\n",
    "# inputs to neural net must be of shape [n, 1]\n",
    "X_norm = np.expand_dims(X_norm, axis=2)"
   ]
  },
  {
   "cell_type": "code",
   "execution_count": 6,
   "metadata": {},
   "outputs": [],
   "source": [
    "epochs = 200\n",
    "\n",
    "model = Sequential([\n",
    "    Linear(inputs=10, neurons=32, initializer=HeNormal()),\n",
    "    ReLU(),\n",
    "    Linear(inputs=32, neurons=16, initializer=HeNormal()),\n",
    "    ReLU(),\n",
    "    Linear(inputs=16, neurons=1, initializer=HeNormal())\n",
    "])\n",
    "\n",
    "dataset = InMemoryDataset(X_norm, y)\n",
    "loss_f = MeanSquaredError()\n",
    "sgd = SGD(learning_rate=0.0001, momentum=0.9)\n",
    "callbacks = [PrintCallback(), LrSchedule(optimizer=sgd, schedule=lr_schedule)]\n",
    "trainer = DefaultTrainer()"
   ]
  },
  {
   "cell_type": "code",
   "execution_count": null,
   "metadata": {},
   "outputs": [],
   "source": [
    "history = trainer.train(\n",
    "    model=model,\n",
    "    train_dataset=dataset,\n",
    "    val_dataset=None,\n",
    "    loss_f=loss_f,\n",
    "    optimizer=sgd,\n",
    "    epochs=epochs,\n",
    "    callbacks=callbacks\n",
    ")"
   ]
  }
 ],
 "metadata": {
  "interpreter": {
   "hash": "0fffc5df268693bffaf2976b608d533ae62b1afcb43855de55dc184294a1f9ec"
  },
  "kernelspec": {
   "display_name": "Python 3.9.7 64-bit ('pynet': conda)",
   "language": "python",
   "name": "python3"
  },
  "language_info": {
   "codemirror_mode": {
    "name": "ipython",
    "version": 3
   },
   "file_extension": ".py",
   "mimetype": "text/x-python",
   "name": "python",
   "nbconvert_exporter": "python",
   "pygments_lexer": "ipython3",
   "version": "3.9.7"
  },
  "orig_nbformat": 4
 },
 "nbformat": 4,
 "nbformat_minor": 2
}
