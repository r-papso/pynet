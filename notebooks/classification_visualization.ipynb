{
 "cells": [
  {
   "cell_type": "code",
   "execution_count": 1,
   "metadata": {},
   "outputs": [],
   "source": [
    "import sys\n",
    "import os"
   ]
  },
  {
   "cell_type": "code",
   "execution_count": 2,
   "metadata": {},
   "outputs": [],
   "source": [
    "sys.path.append(os.path.abspath('..'))"
   ]
  },
  {
   "cell_type": "code",
   "execution_count": 3,
   "metadata": {},
   "outputs": [],
   "source": [
    "import numpy as np\n",
    "from PIL import Image\n",
    "import matplotlib.pyplot as plt\n",
    "\n",
    "from sklearn.datasets import make_circles\n",
    "\n",
    "# Tensor class\n",
    "from pynet.tensor import Tensor\n",
    "\n",
    "# Neural network modules\n",
    "from pynet.nn.abstract import Module\n",
    "from pynet.nn.sequential import Sequential\n",
    "from pynet.nn.linear import Linear\n",
    "from pynet.nn.relu import ReLU\n",
    "from pynet.nn.sigmoid import Sigmoid\n",
    "\n",
    "# Datasets\n",
    "from pynet.data.in_memory import InMemoryDataset\n",
    "\n",
    "# Loss functions\n",
    "from pynet.loss.bce import BinaryCrossEntropy\n",
    "\n",
    "# Optimizers\n",
    "from pynet.optimizers.sgd import SGD\n",
    "\n",
    "# Trainer and training/testing callbacks\n",
    "from pynet.training.trainer import Trainer\n",
    "from pynet.training.callbacks.abstract import Callback\n",
    "from pynet.training.callbacks.print import PrintCallback\n",
    "from pynet.training.history import History"
   ]
  },
  {
   "cell_type": "code",
   "execution_count": 4,
   "metadata": {},
   "outputs": [],
   "source": [
    "class GifCallback(Callback):\n",
    "    def __init__(self, model: Module, x: np.ndarray, y: np.ndarray, imgdir: str) -> None:\n",
    "        super().__init__()\n",
    "\n",
    "        self.__model = model\n",
    "        self.__x = x\n",
    "        self.__y = y\n",
    "        self.__imgdir = imgdir\n",
    "\n",
    "    def on_train_begin(self) -> None:\n",
    "        self.__create_boundary(-1)\n",
    "    \n",
    "    def on_epoch_end(self, history: History) -> None:\n",
    "        epoch = history.rows[-1].epoch\n",
    "        self.__create_boundary(epoch)\n",
    "    \n",
    "    def __create_boundary(self, epoch: int) -> None:\n",
    "        model = self.__model\n",
    "        x = self.__x\n",
    "        y = self.__y\n",
    "\n",
    "        x_min, x_max = x[:, 0, 0].min() - 0.1, x[:, 0, 0].max() + 0.1\n",
    "        y_min, y_max = x[:, 1, 0].min() - 0.1, x[:, 1, 0].max() + 0.1\n",
    "        xx, yy = np.meshgrid(np.arange(x_min, x_max, 0.1), np.arange(y_min, y_max, 0.1))\n",
    "\n",
    "        grid = np.c_[xx.ravel(), yy.ravel()]\n",
    "        grid = np.expand_dims(grid, axis=2)\n",
    "\n",
    "        preds = [model.forward(Tensor(grid[i])) for i in range(len(grid))]\n",
    "        z = np.array([round(pred.ndarray.item()) for pred in preds])\n",
    "        z = z.reshape(xx.shape)\n",
    "\n",
    "        fig, ax = plt.subplots(figsize=(10, 10))\n",
    "        c_dict = {0: \"tab:green\", 1: \"tab:red\"}\n",
    "        colors =list(np.vectorize(c_dict.get)(y))\n",
    "\n",
    "        ax.contourf(xx, yy, z, 1, alpha=0.4, colors=[\"tab:green\", \"tab:red\"])\n",
    "        ax.scatter(x[:,0,0], x[:,1,0], c=colors)\n",
    "        ax.set_title(f\"Epoch: {epoch + 1}\")\n",
    "\n",
    "        os.makedirs(self.__imgdir, exist_ok=True) \n",
    "\n",
    "        plt.savefig(os.path.join(self.__imgdir, f\"epoch_{epoch}.jpg\"), format=\"jpg\")\n",
    "        plt.close(fig)"
   ]
  },
  {
   "cell_type": "code",
   "execution_count": 9,
   "metadata": {},
   "outputs": [],
   "source": [
    "x, y = make_circles(1000, noise=0.025)\n",
    "# inputs to neural net must be of shape [n, 1]\n",
    "x = np.expand_dims(x, axis=2)\n",
    "epochs = 20\n",
    "imgdir = \".\\\\training_visualization\\\\classification\"\n",
    "\n",
    "model = Sequential([\n",
    "    Linear(2, 16),\n",
    "    ReLU(),\n",
    "    Linear(16, 1),\n",
    "    Sigmoid()\n",
    "])\n",
    "\n",
    "train_dataset = InMemoryDataset(x, y)\n",
    "loss_f = BinaryCrossEntropy()\n",
    "sgd = SGD(0.01, 0.9)\n",
    "callbacks = [PrintCallback(), GifCallback(model, x, y, imgdir)]\n",
    "trainer = Trainer()"
   ]
  },
  {
   "cell_type": "code",
   "execution_count": 10,
   "metadata": {},
   "outputs": [
    {
     "name": "stdout",
     "output_type": "stream",
     "text": [
      "Epoch 0001 -> train_loss: 0.6945, train_accuracy: 0.5260\n",
      "Epoch 0002 -> train_loss: 0.6651, train_accuracy: 0.6460\n",
      "Epoch 0003 -> train_loss: 0.6439, train_accuracy: 0.7420\n",
      "Epoch 0004 -> train_loss: 0.6220, train_accuracy: 0.7700\n",
      "Epoch 0005 -> train_loss: 0.5998, train_accuracy: 0.8210\n",
      "Epoch 0006 -> train_loss: 0.5763, train_accuracy: 0.8860\n",
      "Epoch 0007 -> train_loss: 0.5509, train_accuracy: 0.9080\n",
      "Epoch 0008 -> train_loss: 0.5200, train_accuracy: 0.9300\n",
      "Epoch 0009 -> train_loss: 0.4867, train_accuracy: 0.9650\n",
      "Epoch 0010 -> train_loss: 0.4545, train_accuracy: 0.9780\n",
      "Epoch 0011 -> train_loss: 0.4206, train_accuracy: 0.9800\n",
      "Epoch 0012 -> train_loss: 0.3863, train_accuracy: 0.9910\n",
      "Epoch 0013 -> train_loss: 0.3514, train_accuracy: 0.9890\n",
      "Epoch 0014 -> train_loss: 0.3200, train_accuracy: 0.9910\n",
      "Epoch 0015 -> train_loss: 0.2905, train_accuracy: 0.9960\n",
      "Epoch 0016 -> train_loss: 0.2622, train_accuracy: 0.9960\n",
      "Epoch 0017 -> train_loss: 0.2359, train_accuracy: 0.9990\n",
      "Epoch 0018 -> train_loss: 0.2134, train_accuracy: 0.9980\n",
      "Epoch 0019 -> train_loss: 0.1930, train_accuracy: 0.9990\n",
      "Epoch 0020 -> train_loss: 0.1752, train_accuracy: 1.0000\n"
     ]
    }
   ],
   "source": [
    "trainer.train(model, train_dataset, None, loss_f, sgd, epochs, callbacks)"
   ]
  },
  {
   "cell_type": "code",
   "execution_count": 11,
   "metadata": {},
   "outputs": [],
   "source": [
    "img, *imgs = [Image.open(os.path.join(imgdir, f\"epoch_{i}.jpg\")) for i in range(-1, epochs)]\n",
    "img.save(os.path.join(imgdir, \"training.gif\"), format=\"GIF\", append_images=imgs, save_all=True, duration=500, loop=0)"
   ]
  }
 ],
 "metadata": {
  "interpreter": {
   "hash": "0fffc5df268693bffaf2976b608d533ae62b1afcb43855de55dc184294a1f9ec"
  },
  "kernelspec": {
   "display_name": "Python 3.9.7 64-bit ('pynet': conda)",
   "language": "python",
   "name": "python3"
  },
  "language_info": {
   "codemirror_mode": {
    "name": "ipython",
    "version": 3
   },
   "file_extension": ".py",
   "mimetype": "text/x-python",
   "name": "python",
   "nbconvert_exporter": "python",
   "pygments_lexer": "ipython3",
   "version": "3.9.7"
  },
  "orig_nbformat": 4
 },
 "nbformat": 4,
 "nbformat_minor": 2
}
