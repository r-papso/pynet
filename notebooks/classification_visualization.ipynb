{
 "cells": [
  {
   "cell_type": "code",
   "execution_count": 1,
   "metadata": {},
   "outputs": [],
   "source": [
    "import sys\n",
    "import os"
   ]
  },
  {
   "cell_type": "code",
   "execution_count": 2,
   "metadata": {},
   "outputs": [],
   "source": [
    "sys.path.append(os.path.abspath('..'))"
   ]
  },
  {
   "cell_type": "code",
   "execution_count": 3,
   "metadata": {},
   "outputs": [],
   "source": [
    "import numpy as np\n",
    "from PIL import Image\n",
    "import matplotlib.pyplot as plt\n",
    "\n",
    "from sklearn.datasets import make_circles\n",
    "\n",
    "# Tensor class\n",
    "from pynet.tensor import Tensor\n",
    "\n",
    "# Neural network modules\n",
    "from pynet.nn.abstract import Module\n",
    "from pynet.nn.sequential import Sequential\n",
    "from pynet.nn.linear import Linear\n",
    "from pynet.nn.relu import ReLU\n",
    "from pynet.nn.sigmoid import Sigmoid\n",
    "\n",
    "# Datasets\n",
    "from pynet.data.in_memory import InMemoryDataset\n",
    "\n",
    "# Loss functions\n",
    "from pynet.loss.bce import BinaryCrossEntropy\n",
    "\n",
    "# Optimizers\n",
    "from pynet.optimizers.sgd import SGD\n",
    "\n",
    "# Weight initializers\n",
    "from pynet.initializers.he_normal import HeNormal\n",
    "\n",
    "# Trainer and training/testing callbacks\n",
    "from pynet.training.trainer import Trainer\n",
    "from pynet.training.callbacks.abstract import Callback\n",
    "from pynet.training.callbacks.print import PrintCallback\n",
    "from pynet.training.history import History"
   ]
  },
  {
   "cell_type": "code",
   "execution_count": 4,
   "metadata": {},
   "outputs": [],
   "source": [
    "class GifCallback(Callback):\n",
    "    def __init__(self, model: Module, x: np.ndarray, y: np.ndarray, imgdir: str) -> None:\n",
    "        super().__init__()\n",
    "\n",
    "        self.__model = model\n",
    "        self.__x = x\n",
    "        self.__y = y\n",
    "        self.__imgdir = imgdir\n",
    "\n",
    "    def on_train_begin(self) -> None:\n",
    "        self.__create_boundary(-1)\n",
    "    \n",
    "    def on_epoch_end(self, history: History) -> None:\n",
    "        epoch = history.rows[-1].epoch\n",
    "        self.__create_boundary(epoch)\n",
    "    \n",
    "    def __create_boundary(self, epoch: int) -> None:\n",
    "        model = self.__model\n",
    "        x = self.__x\n",
    "        y = self.__y\n",
    "\n",
    "        x_min, x_max = x[:, 0, 0].min() - 0.1, x[:, 0, 0].max() + 0.1\n",
    "        y_min, y_max = x[:, 1, 0].min() - 0.1, x[:, 1, 0].max() + 0.1\n",
    "        xx, yy = np.meshgrid(np.arange(x_min, x_max, 0.1), np.arange(y_min, y_max, 0.1))\n",
    "\n",
    "        grid = np.c_[xx.ravel(), yy.ravel()]\n",
    "        grid = np.expand_dims(grid, axis=2)\n",
    "\n",
    "        preds = [model.forward(Tensor(grid[i])) for i in range(len(grid))]\n",
    "        z = np.array([round(pred.ndarray.item()) for pred in preds])\n",
    "        z = z.reshape(xx.shape)\n",
    "\n",
    "        fig, ax = plt.subplots(figsize=(10, 10))\n",
    "        c_dict = {0: \"tab:green\", 1: \"tab:red\"}\n",
    "        colors =list(np.vectorize(c_dict.get)(y))\n",
    "\n",
    "        ax.contourf(xx, yy, z, 1, alpha=0.4, colors=[\"tab:green\", \"tab:red\"])\n",
    "        ax.scatter(x[:,0,0], x[:,1,0], c=colors)\n",
    "        ax.set_title(f\"Epoch: {epoch + 1}\")\n",
    "\n",
    "        os.makedirs(self.__imgdir, exist_ok=True) \n",
    "\n",
    "        plt.savefig(os.path.join(self.__imgdir, f\"epoch_{epoch}.jpg\"), format=\"jpg\")\n",
    "        plt.close(fig)"
   ]
  },
  {
   "cell_type": "code",
   "execution_count": 6,
   "metadata": {},
   "outputs": [],
   "source": [
    "X, y = make_circles(n_samples=1000, noise=0.025)\n",
    "# inputs to neural net must be of shape [n, 1]\n",
    "X = np.expand_dims(X, axis=2)\n",
    "epochs = 20\n",
    "imgdir = \".\\\\training_visualization\\\\classification\"\n",
    "\n",
    "model = Sequential([\n",
    "    Linear(inputs=2, neurons=16, initializer=HeNormal()),\n",
    "    ReLU(),\n",
    "    Linear(inputs=16, neurons=1, initializer=HeNormal()),\n",
    "    Sigmoid()\n",
    "])\n",
    "\n",
    "train_dataset = InMemoryDataset(X, y)\n",
    "loss_f = BinaryCrossEntropy()\n",
    "sgd = SGD(learning_rate=0.01, momentum=0.9)\n",
    "callbacks = [PrintCallback(), GifCallback(model, X, y, imgdir)]\n",
    "trainer = Trainer()"
   ]
  },
  {
   "cell_type": "code",
   "execution_count": 7,
   "metadata": {},
   "outputs": [
    {
     "name": "stdout",
     "output_type": "stream",
     "text": [
      "Epoch 0001 -> train_loss: 0.6905, train_accuracy: 0.5420\n",
      "Epoch 0002 -> train_loss: 0.6600, train_accuracy: 0.6440\n",
      "Epoch 0003 -> train_loss: 0.6414, train_accuracy: 0.7470\n",
      "Epoch 0004 -> train_loss: 0.6162, train_accuracy: 0.7470\n",
      "Epoch 0005 -> train_loss: 0.5970, train_accuracy: 0.8170\n",
      "Epoch 0006 -> train_loss: 0.5688, train_accuracy: 0.8400\n",
      "Epoch 0007 -> train_loss: 0.5349, train_accuracy: 0.8890\n",
      "Epoch 0008 -> train_loss: 0.4995, train_accuracy: 0.9240\n",
      "Epoch 0009 -> train_loss: 0.4612, train_accuracy: 0.9530\n",
      "Epoch 0010 -> train_loss: 0.4280, train_accuracy: 0.9710\n",
      "Epoch 0011 -> train_loss: 0.3895, train_accuracy: 0.9790\n",
      "Epoch 0012 -> train_loss: 0.3559, train_accuracy: 0.9910\n",
      "Epoch 0013 -> train_loss: 0.3238, train_accuracy: 0.9890\n",
      "Epoch 0014 -> train_loss: 0.2931, train_accuracy: 0.9940\n",
      "Epoch 0015 -> train_loss: 0.2668, train_accuracy: 0.9940\n",
      "Epoch 0016 -> train_loss: 0.2396, train_accuracy: 0.9960\n",
      "Epoch 0017 -> train_loss: 0.2161, train_accuracy: 0.9980\n",
      "Epoch 0018 -> train_loss: 0.1984, train_accuracy: 0.9980\n",
      "Epoch 0019 -> train_loss: 0.1786, train_accuracy: 0.9980\n",
      "Epoch 0020 -> train_loss: 0.1617, train_accuracy: 0.9990\n"
     ]
    }
   ],
   "source": [
    "trainer.train(\n",
    "    model=model,\n",
    "    train_dataset=train_dataset,\n",
    "    val_dataset=None,\n",
    "    loss_f=loss_f,\n",
    "    optimizer=sgd,\n",
    "    epochs=epochs,\n",
    "    callbacks=callbacks\n",
    ")"
   ]
  },
  {
   "cell_type": "code",
   "execution_count": 11,
   "metadata": {},
   "outputs": [],
   "source": [
    "img, *imgs = [Image.open(os.path.join(imgdir, f\"epoch_{i}.jpg\")) for i in range(-1, epochs)]\n",
    "img.save(os.path.join(imgdir, \"training.gif\"), format=\"GIF\", append_images=imgs, save_all=True, duration=500, loop=0)"
   ]
  }
 ],
 "metadata": {
  "interpreter": {
   "hash": "0fffc5df268693bffaf2976b608d533ae62b1afcb43855de55dc184294a1f9ec"
  },
  "kernelspec": {
   "display_name": "Python 3.9.7 64-bit ('pynet': conda)",
   "language": "python",
   "name": "python3"
  },
  "language_info": {
   "codemirror_mode": {
    "name": "ipython",
    "version": 3
   },
   "file_extension": ".py",
   "mimetype": "text/x-python",
   "name": "python",
   "nbconvert_exporter": "python",
   "pygments_lexer": "ipython3",
   "version": "3.9.7"
  },
  "orig_nbformat": 4
 },
 "nbformat": 4,
 "nbformat_minor": 2
}
