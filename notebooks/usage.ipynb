{
 "cells": [
  {
   "cell_type": "code",
   "execution_count": 1,
   "metadata": {},
   "outputs": [],
   "source": [
    "import sys\n",
    "import os"
   ]
  },
  {
   "cell_type": "code",
   "execution_count": 2,
   "metadata": {},
   "outputs": [],
   "source": [
    "sys.path.append(os.path.abspath('..'))"
   ]
  },
  {
   "cell_type": "code",
   "execution_count": 3,
   "metadata": {},
   "outputs": [],
   "source": [
    "import numpy as np\n",
    "\n",
    "from sklearn.datasets import make_circles\n",
    "\n",
    "# Neural network modules\n",
    "from pynet.nn.sequential import Sequential\n",
    "from pynet.nn.linear import Linear\n",
    "from pynet.nn.relu import ReLU\n",
    "from pynet.nn.sigmoid import Sigmoid\n",
    "\n",
    "# Datasets\n",
    "from pynet.data.in_memory import InMemoryDataset\n",
    "\n",
    "# Loss functions\n",
    "from pynet.loss.bce import BinaryCrossEntropy\n",
    "\n",
    "# Optimizers\n",
    "from pynet.optimizers.sgd import SGD\n",
    "\n",
    "# Trainer and training/testing callbacks\n",
    "from pynet.training.trainer import Trainer\n",
    "from pynet.training.callbacks.print import PrintCallback"
   ]
  },
  {
   "cell_type": "code",
   "execution_count": 4,
   "metadata": {},
   "outputs": [],
   "source": [
    "x, y = make_circles(1000)\n",
    "# inputs to neural net must be of shape [n, 1]\n",
    "x = np.expand_dims(x, axis=2)\n",
    "\n",
    "model = Sequential([\n",
    "    Linear(2, 16),\n",
    "    ReLU(),\n",
    "    Linear(16, 1),\n",
    "    Sigmoid()\n",
    "])\n",
    "\n",
    "dataset = InMemoryDataset(x, y)\n",
    "loss_f = BinaryCrossEntropy()\n",
    "sgd = SGD(0.1, 0.9)\n",
    "callbacks = [PrintCallback()]\n",
    "trainer = Trainer()"
   ]
  },
  {
   "cell_type": "code",
   "execution_count": 5,
   "metadata": {},
   "outputs": [
    {
     "name": "stdout",
     "output_type": "stream",
     "text": [
      "Epoch 0001 -> train_loss: 0.6354, train_accuracy: 0.6480\n",
      "Epoch 0002 -> train_loss: 0.4508, train_accuracy: 0.8380\n",
      "Epoch 0003 -> train_loss: 0.2186, train_accuracy: 0.9700\n",
      "Epoch 0004 -> train_loss: 0.0852, train_accuracy: 1.0000\n",
      "Epoch 0005 -> train_loss: 0.0396, train_accuracy: 1.0000\n"
     ]
    }
   ],
   "source": [
    "trainer.train(model, dataset, None, loss_f, sgd, 5, callbacks)"
   ]
  }
 ],
 "metadata": {
  "interpreter": {
   "hash": "0fffc5df268693bffaf2976b608d533ae62b1afcb43855de55dc184294a1f9ec"
  },
  "kernelspec": {
   "display_name": "Python 3.9.7 64-bit ('pynet': conda)",
   "language": "python",
   "name": "python3"
  },
  "language_info": {
   "codemirror_mode": {
    "name": "ipython",
    "version": 3
   },
   "file_extension": ".py",
   "mimetype": "text/x-python",
   "name": "python",
   "nbconvert_exporter": "python",
   "pygments_lexer": "ipython3",
   "version": "3.9.7"
  },
  "orig_nbformat": 4
 },
 "nbformat": 4,
 "nbformat_minor": 2
}
