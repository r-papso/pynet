{
 "cells": [
  {
   "cell_type": "code",
   "execution_count": 1,
   "metadata": {},
   "outputs": [],
   "source": [
    "import sys\n",
    "import os"
   ]
  },
  {
   "cell_type": "code",
   "execution_count": 2,
   "metadata": {},
   "outputs": [],
   "source": [
    "sys.path.append(os.path.abspath('..'))"
   ]
  },
  {
   "cell_type": "code",
   "execution_count": 3,
   "metadata": {},
   "outputs": [],
   "source": [
    "import numpy as np\n",
    "\n",
    "from sklearn.datasets import make_circles\n",
    "\n",
    "from pynet.nn.abstract import Module\n",
    "from pynet.nn.sequential import Sequential\n",
    "from pynet.nn.linear import Linear\n",
    "from pynet.nn.relu import ReLU\n",
    "from pynet.nn.sigmoid import Sigmoid\n",
    "from pynet.tensor import Tensor\n",
    "from pynet.data.abstract import Dataset\n",
    "from pynet.data.in_memory import InMemoryDataset\n",
    "from pynet.loss.abstract import Loss\n",
    "from pynet.loss.bce import BinaryCrossEntropy\n",
    "from pynet.optimizers.abstract import Optimizer\n",
    "from pynet.optimizers.sgd import SGD"
   ]
  },
  {
   "cell_type": "code",
   "execution_count": 4,
   "metadata": {},
   "outputs": [],
   "source": [
    "def train(model: Module, dataset: Dataset, loss_f: Loss, optimizer: Optimizer, epochs: int) -> None:\n",
    "    for epoch in range(epochs):\n",
    "        acc_sum = 0.0\n",
    "        loss_sum = 0.0\n",
    "        steps = len(dataset)\n",
    "\n",
    "        for xi, yi in dataset:\n",
    "            xi = np.expand_dims(xi, axis=1)\n",
    "            z = model.forward(Tensor(xi))\n",
    "            pred = 1 if round(z.ndarray.item()) == yi else 0\n",
    "            acc_sum += pred\n",
    "            loss_sum += loss_f.forward(z, Tensor(yi))\n",
    "\n",
    "            dl = loss_f.backward()\n",
    "            _ = model.backward(dl)\n",
    "            optimizer.step()\n",
    "\n",
    "        print(f\"Epoch {epoch}: Average loss: {loss_sum / steps}, Average accuracy: {acc_sum / steps}\")"
   ]
  },
  {
   "cell_type": "code",
   "execution_count": 6,
   "metadata": {},
   "outputs": [],
   "source": [
    "x, y = make_circles(100)\n",
    "\n",
    "model = Sequential([\n",
    "    Linear(2, 16),\n",
    "    ReLU(),\n",
    "    Linear(16, 1),\n",
    "    Sigmoid()\n",
    "])\n",
    "\n",
    "dataset = InMemoryDataset(x, y)\n",
    "loss_f = BinaryCrossEntropy()\n",
    "sgd = SGD(model.get_parameters(), 0.1, 0.9)"
   ]
  },
  {
   "cell_type": "code",
   "execution_count": 7,
   "metadata": {},
   "outputs": [
    {
     "name": "stdout",
     "output_type": "stream",
     "text": [
      "Epoch 0: Average loss: 0.7434996202387176, Average accuracy: 0.45\n",
      "Epoch 1: Average loss: 0.6980062234175004, Average accuracy: 0.52\n",
      "Epoch 2: Average loss: 0.6808846502966186, Average accuracy: 0.5\n",
      "Epoch 3: Average loss: 0.6654643756609279, Average accuracy: 0.59\n",
      "Epoch 4: Average loss: 0.6398109834110429, Average accuracy: 0.66\n",
      "Epoch 5: Average loss: 0.6409558705383648, Average accuracy: 0.63\n",
      "Epoch 6: Average loss: 0.6242423141894697, Average accuracy: 0.65\n",
      "Epoch 7: Average loss: 0.6067087527146338, Average accuracy: 0.72\n",
      "Epoch 8: Average loss: 0.5648341348683954, Average accuracy: 0.79\n",
      "Epoch 9: Average loss: 0.5678423100002389, Average accuracy: 0.72\n",
      "Epoch 10: Average loss: 0.5255270544537247, Average accuracy: 0.87\n",
      "Epoch 11: Average loss: 0.4938879018677514, Average accuracy: 0.9\n",
      "Epoch 12: Average loss: 0.47011469209019296, Average accuracy: 0.92\n",
      "Epoch 13: Average loss: 0.47025568527832035, Average accuracy: 0.83\n",
      "Epoch 14: Average loss: 0.42663767445260753, Average accuracy: 0.92\n",
      "Epoch 15: Average loss: 0.43944608545139, Average accuracy: 0.8\n",
      "Epoch 16: Average loss: 0.38797377993717647, Average accuracy: 0.94\n",
      "Epoch 17: Average loss: 0.36348864355902855, Average accuracy: 0.97\n",
      "Epoch 18: Average loss: 0.35018520860610153, Average accuracy: 0.96\n",
      "Epoch 19: Average loss: 0.34617280427855013, Average accuracy: 0.96\n",
      "Epoch 20: Average loss: 0.3266403490569429, Average accuracy: 0.97\n",
      "Epoch 21: Average loss: 0.29196376600669394, Average accuracy: 1.0\n",
      "Epoch 22: Average loss: 0.2983269942371718, Average accuracy: 0.96\n",
      "Epoch 23: Average loss: 0.2603010031839791, Average accuracy: 1.0\n",
      "Epoch 24: Average loss: 0.23884386886097253, Average accuracy: 0.99\n",
      "Epoch 25: Average loss: 0.22187778684699277, Average accuracy: 0.99\n",
      "Epoch 26: Average loss: 0.21416621078569245, Average accuracy: 1.0\n",
      "Epoch 27: Average loss: 0.20608394804690275, Average accuracy: 1.0\n",
      "Epoch 28: Average loss: 0.201642366332204, Average accuracy: 0.98\n",
      "Epoch 29: Average loss: 0.17690231459746486, Average accuracy: 0.99\n",
      "Epoch 30: Average loss: 0.16133468832555423, Average accuracy: 1.0\n",
      "Epoch 31: Average loss: 0.14807148439992335, Average accuracy: 1.0\n",
      "Epoch 32: Average loss: 0.15514512722100557, Average accuracy: 1.0\n",
      "Epoch 33: Average loss: 0.13346339923486153, Average accuracy: 1.0\n",
      "Epoch 34: Average loss: 0.12495453884107198, Average accuracy: 1.0\n",
      "Epoch 35: Average loss: 0.1244885919694873, Average accuracy: 1.0\n",
      "Epoch 36: Average loss: 0.11262289908989924, Average accuracy: 1.0\n",
      "Epoch 37: Average loss: 0.1127457977192416, Average accuracy: 0.99\n",
      "Epoch 38: Average loss: 0.10378662663015335, Average accuracy: 1.0\n",
      "Epoch 39: Average loss: 0.09356561360946287, Average accuracy: 1.0\n",
      "Epoch 40: Average loss: 0.09663280624231327, Average accuracy: 1.0\n",
      "Epoch 41: Average loss: 0.08446426887496415, Average accuracy: 1.0\n",
      "Epoch 42: Average loss: 0.08172933216982047, Average accuracy: 1.0\n",
      "Epoch 43: Average loss: 0.0791588983632393, Average accuracy: 1.0\n",
      "Epoch 44: Average loss: 0.0721982024838291, Average accuracy: 1.0\n",
      "Epoch 45: Average loss: 0.07128004825869931, Average accuracy: 1.0\n",
      "Epoch 46: Average loss: 0.0666003443774128, Average accuracy: 1.0\n",
      "Epoch 47: Average loss: 0.06374889477919139, Average accuracy: 1.0\n",
      "Epoch 48: Average loss: 0.05999423151353855, Average accuracy: 1.0\n",
      "Epoch 49: Average loss: 0.057143090985220794, Average accuracy: 1.0\n",
      "Epoch 50: Average loss: 0.056617535387346256, Average accuracy: 1.0\n",
      "Epoch 51: Average loss: 0.054313593884317196, Average accuracy: 1.0\n",
      "Epoch 52: Average loss: 0.052492136984268585, Average accuracy: 1.0\n",
      "Epoch 53: Average loss: 0.0525528590681453, Average accuracy: 1.0\n",
      "Epoch 54: Average loss: 0.0485551165901613, Average accuracy: 1.0\n",
      "Epoch 55: Average loss: 0.045780063975495756, Average accuracy: 1.0\n",
      "Epoch 56: Average loss: 0.04537918847591221, Average accuracy: 1.0\n",
      "Epoch 57: Average loss: 0.04369867946641896, Average accuracy: 1.0\n",
      "Epoch 58: Average loss: 0.04113741576851031, Average accuracy: 1.0\n",
      "Epoch 59: Average loss: 0.04074407273979299, Average accuracy: 1.0\n",
      "Epoch 60: Average loss: 0.03928447126028913, Average accuracy: 1.0\n",
      "Epoch 61: Average loss: 0.038610658991100756, Average accuracy: 1.0\n",
      "Epoch 62: Average loss: 0.03831466100187947, Average accuracy: 1.0\n",
      "Epoch 63: Average loss: 0.03605339466203174, Average accuracy: 1.0\n",
      "Epoch 64: Average loss: 0.035296048880423855, Average accuracy: 1.0\n",
      "Epoch 65: Average loss: 0.03373838850728245, Average accuracy: 1.0\n",
      "Epoch 66: Average loss: 0.03303961459238284, Average accuracy: 1.0\n",
      "Epoch 67: Average loss: 0.03224244630191791, Average accuracy: 1.0\n",
      "Epoch 68: Average loss: 0.031701226417715514, Average accuracy: 1.0\n",
      "Epoch 69: Average loss: 0.031223043038175954, Average accuracy: 1.0\n",
      "Epoch 70: Average loss: 0.029388734249416636, Average accuracy: 1.0\n",
      "Epoch 71: Average loss: 0.030184225322023042, Average accuracy: 1.0\n",
      "Epoch 72: Average loss: 0.02856027927194792, Average accuracy: 1.0\n",
      "Epoch 73: Average loss: 0.02738091337574654, Average accuracy: 1.0\n",
      "Epoch 74: Average loss: 0.029237852312580418, Average accuracy: 1.0\n",
      "Epoch 75: Average loss: 0.026920322637481724, Average accuracy: 1.0\n",
      "Epoch 76: Average loss: 0.027174204971388737, Average accuracy: 1.0\n",
      "Epoch 77: Average loss: 0.026867557617716975, Average accuracy: 1.0\n",
      "Epoch 78: Average loss: 0.02538747428207428, Average accuracy: 1.0\n",
      "Epoch 79: Average loss: 0.02489195587095575, Average accuracy: 1.0\n",
      "Epoch 80: Average loss: 0.0245853048254199, Average accuracy: 1.0\n",
      "Epoch 81: Average loss: 0.02389109207417456, Average accuracy: 1.0\n",
      "Epoch 82: Average loss: 0.023037785971559397, Average accuracy: 1.0\n",
      "Epoch 83: Average loss: 0.0236542856417659, Average accuracy: 1.0\n",
      "Epoch 84: Average loss: 0.022603778660348416, Average accuracy: 1.0\n",
      "Epoch 85: Average loss: 0.022204356728492417, Average accuracy: 1.0\n",
      "Epoch 86: Average loss: 0.021792079987391896, Average accuracy: 1.0\n",
      "Epoch 87: Average loss: 0.021345603965151335, Average accuracy: 1.0\n",
      "Epoch 88: Average loss: 0.021285765063676763, Average accuracy: 1.0\n",
      "Epoch 89: Average loss: 0.020735663308331688, Average accuracy: 1.0\n",
      "Epoch 90: Average loss: 0.02066482987144651, Average accuracy: 1.0\n",
      "Epoch 91: Average loss: 0.020250528490183002, Average accuracy: 1.0\n",
      "Epoch 92: Average loss: 0.019604656617374122, Average accuracy: 1.0\n",
      "Epoch 93: Average loss: 0.01934423914880881, Average accuracy: 1.0\n",
      "Epoch 94: Average loss: 0.01930441512876373, Average accuracy: 1.0\n",
      "Epoch 95: Average loss: 0.018642074862282813, Average accuracy: 1.0\n",
      "Epoch 96: Average loss: 0.018596966939458972, Average accuracy: 1.0\n",
      "Epoch 97: Average loss: 0.018137031346459102, Average accuracy: 1.0\n",
      "Epoch 98: Average loss: 0.018114200499595657, Average accuracy: 1.0\n",
      "Epoch 99: Average loss: 0.01742534722559378, Average accuracy: 1.0\n"
     ]
    }
   ],
   "source": [
    "train(model, dataset, loss_f, sgd, 100)"
   ]
  },
  {
   "cell_type": "code",
   "execution_count": null,
   "metadata": {},
   "outputs": [],
   "source": [
    "i = 1\n",
    "xi = np.expand_dims(x[i], axis=1)"
   ]
  },
  {
   "cell_type": "code",
   "execution_count": 21,
   "metadata": {},
   "outputs": [],
   "source": [
    "z = model.forward(Tensor(xi))\n",
    "loss = loss_f.forward(z, Tensor(y[i]))"
   ]
  },
  {
   "cell_type": "code",
   "execution_count": 22,
   "metadata": {},
   "outputs": [],
   "source": [
    "dl = loss_f.backward()\n",
    "_ = model.backward(dl)"
   ]
  },
  {
   "cell_type": "code",
   "execution_count": null,
   "metadata": {},
   "outputs": [],
   "source": [
    "model.get(0).weights.ndarray"
   ]
  },
  {
   "cell_type": "code",
   "execution_count": null,
   "metadata": {},
   "outputs": [],
   "source": [
    "sgd.step()"
   ]
  }
 ],
 "metadata": {
  "interpreter": {
   "hash": "0fffc5df268693bffaf2976b608d533ae62b1afcb43855de55dc184294a1f9ec"
  },
  "kernelspec": {
   "display_name": "Python 3.9.7 64-bit ('pynet': conda)",
   "language": "python",
   "name": "python3"
  },
  "language_info": {
   "codemirror_mode": {
    "name": "ipython",
    "version": 3
   },
   "file_extension": ".py",
   "mimetype": "text/x-python",
   "name": "python",
   "nbconvert_exporter": "python",
   "pygments_lexer": "ipython3",
   "version": "3.9.7"
  },
  "orig_nbformat": 4
 },
 "nbformat": 4,
 "nbformat_minor": 2
}
