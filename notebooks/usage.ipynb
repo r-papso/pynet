{
 "cells": [
  {
   "cell_type": "code",
   "execution_count": 1,
   "metadata": {},
   "outputs": [],
   "source": [
    "import sys\n",
    "import os"
   ]
  },
  {
   "cell_type": "code",
   "execution_count": 2,
   "metadata": {},
   "outputs": [],
   "source": [
    "sys.path.append(os.path.abspath('..'))"
   ]
  },
  {
   "cell_type": "code",
   "execution_count": 3,
   "metadata": {},
   "outputs": [],
   "source": [
    "import numpy as np\n",
    "\n",
    "from sklearn.datasets import make_circles\n",
    "\n",
    "# Tensor class\n",
    "from pynet.tensor import Tensor\n",
    "\n",
    "# Neural network modules\n",
    "from pynet.nn.abstract import Module\n",
    "from pynet.nn.sequential import Sequential\n",
    "from pynet.nn.linear import Linear\n",
    "from pynet.nn.relu import ReLU\n",
    "from pynet.nn.sigmoid import Sigmoid\n",
    "\n",
    "# Datasets\n",
    "from pynet.data.abstract import Dataset\n",
    "from pynet.data.in_memory import InMemoryDataset\n",
    "\n",
    "# Loss functions\n",
    "from pynet.loss.abstract import Loss\n",
    "from pynet.loss.bce import BinaryCrossEntropy\n",
    "\n",
    "# Optimizers\n",
    "from pynet.optimizers.abstract import Optimizer\n",
    "from pynet.optimizers.sgd import SGD"
   ]
  },
  {
   "cell_type": "code",
   "execution_count": 4,
   "metadata": {},
   "outputs": [],
   "source": [
    "def train(model: Module, dataset: Dataset, loss_f: Loss, optimizer: Optimizer, epochs: int) -> None:\n",
    "    for epoch in range(epochs):\n",
    "        acc_sum = 0.0\n",
    "        loss_sum = 0.0\n",
    "        steps = len(dataset)\n",
    "\n",
    "        for xi, yi in dataset:\n",
    "            xi = np.expand_dims(xi, axis=1)\n",
    "            z = model.forward(Tensor(xi))\n",
    "            pred = 1 if round(z.ndarray.item()) == yi else 0\n",
    "            acc_sum += pred\n",
    "            loss_sum += loss_f.forward(z, Tensor(yi))\n",
    "\n",
    "            dl = loss_f.backward()\n",
    "            _ = model.backward(dl)\n",
    "            optimizer.step()\n",
    "\n",
    "        print(f\"Epoch {epoch + 1:04d}: Average loss: {loss_sum / steps:.4f}, Average accuracy: {acc_sum / steps:.4f}\")"
   ]
  },
  {
   "cell_type": "code",
   "execution_count": 5,
   "metadata": {},
   "outputs": [],
   "source": [
    "x, y = make_circles(1000)\n",
    "\n",
    "model = Sequential([\n",
    "    Linear(2, 16),\n",
    "    ReLU(),\n",
    "    Linear(16, 1),\n",
    "    Sigmoid()\n",
    "])\n",
    "\n",
    "dataset = InMemoryDataset(x, y)\n",
    "loss_f = BinaryCrossEntropy()\n",
    "sgd = SGD(model.get_parameters(), 0.1, 0.9)"
   ]
  },
  {
   "cell_type": "code",
   "execution_count": 6,
   "metadata": {},
   "outputs": [
    {
     "name": "stdout",
     "output_type": "stream",
     "text": [
      "Epoch 0001: Average loss: 0.6626, Average accuracy: 0.6140\n",
      "Epoch 0002: Average loss: 0.4724, Average accuracy: 0.8280\n",
      "Epoch 0003: Average loss: 0.2552, Average accuracy: 0.9760\n",
      "Epoch 0004: Average loss: 0.1322, Average accuracy: 0.9990\n",
      "Epoch 0005: Average loss: 0.0762, Average accuracy: 1.0000\n"
     ]
    }
   ],
   "source": [
    "train(model, dataset, loss_f, sgd, 5)"
   ]
  }
 ],
 "metadata": {
  "interpreter": {
   "hash": "0fffc5df268693bffaf2976b608d533ae62b1afcb43855de55dc184294a1f9ec"
  },
  "kernelspec": {
   "display_name": "Python 3.9.7 64-bit ('pynet': conda)",
   "language": "python",
   "name": "python3"
  },
  "language_info": {
   "codemirror_mode": {
    "name": "ipython",
    "version": 3
   },
   "file_extension": ".py",
   "mimetype": "text/x-python",
   "name": "python",
   "nbconvert_exporter": "python",
   "pygments_lexer": "ipython3",
   "version": "3.9.7"
  },
  "orig_nbformat": 4
 },
 "nbformat": 4,
 "nbformat_minor": 2
}
