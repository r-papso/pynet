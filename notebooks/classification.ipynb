{
 "cells": [
  {
   "cell_type": "code",
   "execution_count": 1,
   "metadata": {},
   "outputs": [],
   "source": [
    "import sys\n",
    "import os"
   ]
  },
  {
   "cell_type": "code",
   "execution_count": 2,
   "metadata": {},
   "outputs": [],
   "source": [
    "sys.path.append(os.path.abspath('..'))"
   ]
  },
  {
   "cell_type": "code",
   "execution_count": 3,
   "metadata": {},
   "outputs": [],
   "source": [
    "import numpy as np\n",
    "\n",
    "from sklearn.datasets import make_circles\n",
    "\n",
    "# Neural network modules\n",
    "from pynet.nn.sequential import Sequential\n",
    "from pynet.nn.linear import Linear\n",
    "from pynet.nn.relu import ReLU\n",
    "from pynet.nn.sigmoid import Sigmoid\n",
    "\n",
    "# Datasets\n",
    "from pynet.data.in_memory import InMemoryDataset\n",
    "\n",
    "# Loss functions\n",
    "from pynet.loss.bce import BinaryCrossEntropy\n",
    "\n",
    "# Optimizers\n",
    "from pynet.optimizers.sgd import SGD\n",
    "\n",
    "# Weight initializers\n",
    "from pynet.initializers.he_normal import HeNormal\n",
    "\n",
    "# Trainer and training/testing callbacks\n",
    "from pynet.training.trainer import Trainer\n",
    "from pynet.training.callbacks.print import PrintCallback\n",
    "from pynet.training.callbacks.lr_schedule import LrSchedule"
   ]
  },
  {
   "cell_type": "code",
   "execution_count": 4,
   "metadata": {},
   "outputs": [],
   "source": [
    "def lr_schedule(epoch: int, lr: float) -> float:\n",
    "    if epoch > 0 and epoch % 10 == 0:\n",
    "        return lr * 0.1\n",
    "    else:\n",
    "        return lr"
   ]
  },
  {
   "cell_type": "code",
   "execution_count": 5,
   "metadata": {},
   "outputs": [],
   "source": [
    "X, y = make_circles(n_samples=1000, noise=0.025)\n",
    "# inputs to neural net must be of shape [n, 1]\n",
    "X = np.expand_dims(X, axis=2)"
   ]
  },
  {
   "cell_type": "code",
   "execution_count": 7,
   "metadata": {},
   "outputs": [],
   "source": [
    "epochs = 20\n",
    "\n",
    "model = Sequential([\n",
    "    Linear(inputs=2, neurons=16, initializer=HeNormal()),\n",
    "    ReLU(),\n",
    "    Linear(inputs=16, neurons=1, initializer=HeNormal()),\n",
    "    Sigmoid()\n",
    "])\n",
    "\n",
    "dataset = InMemoryDataset(X, y)\n",
    "loss_f = BinaryCrossEntropy()\n",
    "sgd = SGD(learning_rate=0.01, momentum=0.9)\n",
    "callbacks = [PrintCallback(), LrSchedule(optimizer=sgd, schedule=lr_schedule)]\n",
    "trainer = Trainer()"
   ]
  },
  {
   "cell_type": "code",
   "execution_count": 8,
   "metadata": {},
   "outputs": [
    {
     "name": "stdout",
     "output_type": "stream",
     "text": [
      "Epoch 0001 -> train_loss: 0.6983, train_accuracy: 0.5110\n",
      "Epoch 0002 -> train_loss: 0.6606, train_accuracy: 0.6310\n",
      "Epoch 0003 -> train_loss: 0.6343, train_accuracy: 0.7050\n",
      "Epoch 0004 -> train_loss: 0.6104, train_accuracy: 0.7480\n",
      "Epoch 0005 -> train_loss: 0.5830, train_accuracy: 0.8120\n",
      "Epoch 0006 -> train_loss: 0.5556, train_accuracy: 0.8880\n",
      "Epoch 0007 -> train_loss: 0.5235, train_accuracy: 0.9110\n",
      "Epoch 0008 -> train_loss: 0.4906, train_accuracy: 0.9580\n",
      "Epoch 0009 -> train_loss: 0.4480, train_accuracy: 0.9690\n",
      "Epoch 0010 -> train_loss: 0.4132, train_accuracy: 0.9750\n",
      "Epoch 0011 -> train_loss: 0.3756, train_accuracy: 0.9910\n",
      "Epoch 0012 -> train_loss: 0.3546, train_accuracy: 0.9950\n",
      "Epoch 0013 -> train_loss: 0.3484, train_accuracy: 1.0000\n",
      "Epoch 0014 -> train_loss: 0.3451, train_accuracy: 0.9980\n",
      "Epoch 0015 -> train_loss: 0.3413, train_accuracy: 0.9980\n",
      "Epoch 0016 -> train_loss: 0.3382, train_accuracy: 0.9990\n",
      "Epoch 0017 -> train_loss: 0.3350, train_accuracy: 0.9990\n",
      "Epoch 0018 -> train_loss: 0.3312, train_accuracy: 1.0000\n",
      "Epoch 0019 -> train_loss: 0.3278, train_accuracy: 0.9980\n",
      "Epoch 0020 -> train_loss: 0.3248, train_accuracy: 0.9990\n"
     ]
    }
   ],
   "source": [
    "trainer.train(\n",
    "    model=model,\n",
    "    train_dataset=dataset,\n",
    "    val_dataset=None,\n",
    "    loss_f=loss_f,\n",
    "    optimizer=sgd,\n",
    "    epochs=epochs,\n",
    "    callbacks=callbacks\n",
    ")"
   ]
  }
 ],
 "metadata": {
  "interpreter": {
   "hash": "0fffc5df268693bffaf2976b608d533ae62b1afcb43855de55dc184294a1f9ec"
  },
  "kernelspec": {
   "display_name": "Python 3.9.7 64-bit ('pynet': conda)",
   "language": "python",
   "name": "python3"
  },
  "language_info": {
   "codemirror_mode": {
    "name": "ipython",
    "version": 3
   },
   "file_extension": ".py",
   "mimetype": "text/x-python",
   "name": "python",
   "nbconvert_exporter": "python",
   "pygments_lexer": "ipython3",
   "version": "3.9.7"
  },
  "orig_nbformat": 4
 },
 "nbformat": 4,
 "nbformat_minor": 2
}
