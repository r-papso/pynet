{
 "cells": [
  {
   "cell_type": "code",
   "execution_count": 1,
   "metadata": {},
   "outputs": [],
   "source": [
    "import sys\n",
    "import os"
   ]
  },
  {
   "cell_type": "code",
   "execution_count": 2,
   "metadata": {},
   "outputs": [],
   "source": [
    "sys.path.append(os.path.abspath('..'))"
   ]
  },
  {
   "cell_type": "code",
   "execution_count": 3,
   "metadata": {},
   "outputs": [],
   "source": [
    "import numpy as np\n",
    "\n",
    "from sklearn.datasets import make_circles\n",
    "\n",
    "# Neural network modules\n",
    "from pynet.nn.sequential import Sequential\n",
    "from pynet.nn.linear import Linear\n",
    "from pynet.nn.relu import ReLU\n",
    "from pynet.nn.sigmoid import Sigmoid\n",
    "\n",
    "# Datasets\n",
    "from pynet.data.in_memory import InMemoryDataset\n",
    "\n",
    "# Loss functions\n",
    "from pynet.loss.bce import BinaryCrossEntropy\n",
    "\n",
    "# Optimizers\n",
    "from pynet.optimizers.sgd import SGD\n",
    "\n",
    "# Trainer and training/testing callbacks\n",
    "from pynet.training.trainer import Trainer\n",
    "from pynet.training.callbacks.print import PrintCallback\n",
    "from pynet.training.callbacks.lr_schedule import LrSchedule"
   ]
  },
  {
   "cell_type": "code",
   "execution_count": 4,
   "metadata": {},
   "outputs": [],
   "source": [
    "def lr_schedule(epoch: int, lr: float) -> float:\n",
    "    if epoch > 0 and epoch % 10 == 0:\n",
    "        return lr * 0.1\n",
    "    else:\n",
    "        return lr"
   ]
  },
  {
   "cell_type": "code",
   "execution_count": null,
   "metadata": {},
   "outputs": [],
   "source": [
    "X, y = make_circles(1000, noise=0.025)\n",
    "# inputs to neural net must be of shape [n, 1]\n",
    "X = np.expand_dims(X, axis=2)"
   ]
  },
  {
   "cell_type": "code",
   "execution_count": 5,
   "metadata": {},
   "outputs": [],
   "source": [
    "epochs = 20\n",
    "\n",
    "model = Sequential([\n",
    "    Linear(2, 16),\n",
    "    ReLU(),\n",
    "    Linear(16, 1),\n",
    "    Sigmoid()\n",
    "])\n",
    "\n",
    "dataset = InMemoryDataset(X, y)\n",
    "loss_f = BinaryCrossEntropy()\n",
    "sgd = SGD(0.01, 0.9)\n",
    "callbacks = [PrintCallback(), LrSchedule(sgd, lr_schedule)]\n",
    "trainer = Trainer()"
   ]
  },
  {
   "cell_type": "code",
   "execution_count": 6,
   "metadata": {},
   "outputs": [
    {
     "name": "stdout",
     "output_type": "stream",
     "text": [
      "Epoch 0001 -> train_loss: 0.6925, train_accuracy: 0.5350\n",
      "Epoch 0002 -> train_loss: 0.6569, train_accuracy: 0.6310\n",
      "Epoch 0003 -> train_loss: 0.6321, train_accuracy: 0.7370\n",
      "Epoch 0004 -> train_loss: 0.6074, train_accuracy: 0.7650\n",
      "Epoch 0005 -> train_loss: 0.5830, train_accuracy: 0.8710\n",
      "Epoch 0006 -> train_loss: 0.5559, train_accuracy: 0.8560\n",
      "Epoch 0007 -> train_loss: 0.5294, train_accuracy: 0.9050\n",
      "Epoch 0008 -> train_loss: 0.5031, train_accuracy: 0.9160\n",
      "Epoch 0009 -> train_loss: 0.4724, train_accuracy: 0.9560\n",
      "Epoch 0010 -> train_loss: 0.4448, train_accuracy: 0.9730\n",
      "Epoch 0011 -> train_loss: 0.4076, train_accuracy: 0.9850\n",
      "Epoch 0012 -> train_loss: 0.3841, train_accuracy: 1.0000\n",
      "Epoch 0013 -> train_loss: 0.3800, train_accuracy: 0.9980\n",
      "Epoch 0014 -> train_loss: 0.3768, train_accuracy: 0.9990\n",
      "Epoch 0015 -> train_loss: 0.3735, train_accuracy: 0.9990\n",
      "Epoch 0016 -> train_loss: 0.3705, train_accuracy: 0.9990\n",
      "Epoch 0017 -> train_loss: 0.3671, train_accuracy: 0.9990\n",
      "Epoch 0018 -> train_loss: 0.3639, train_accuracy: 0.9990\n",
      "Epoch 0019 -> train_loss: 0.3607, train_accuracy: 0.9990\n",
      "Epoch 0020 -> train_loss: 0.3576, train_accuracy: 0.9990\n"
     ]
    }
   ],
   "source": [
    "trainer.train(\n",
    "    model=model,\n",
    "    train_dataset=dataset,\n",
    "    val_dataset=None,\n",
    "    loss_f=loss_f,\n",
    "    optimizer=sgd,\n",
    "    epochs=epochs,\n",
    "    callbacks=callbacks\n",
    ")"
   ]
  }
 ],
 "metadata": {
  "interpreter": {
   "hash": "0fffc5df268693bffaf2976b608d533ae62b1afcb43855de55dc184294a1f9ec"
  },
  "kernelspec": {
   "display_name": "Python 3.9.7 64-bit ('pynet': conda)",
   "language": "python",
   "name": "python3"
  },
  "language_info": {
   "codemirror_mode": {
    "name": "ipython",
    "version": 3
   },
   "file_extension": ".py",
   "mimetype": "text/x-python",
   "name": "python",
   "nbconvert_exporter": "python",
   "pygments_lexer": "ipython3",
   "version": "3.9.7"
  },
  "orig_nbformat": 4
 },
 "nbformat": 4,
 "nbformat_minor": 2
}
